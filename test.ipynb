{
 "cells": [
  {
   "cell_type": "code",
   "execution_count": 1,
   "metadata": {},
   "outputs": [
    {
     "name": "stdout",
     "output_type": "stream",
     "text": [
      "Defaulting to user installation because normal site-packages is not writeable\n",
      "Collecting SpeechRecognition\n",
      "  Downloading SpeechRecognition-3.11.0-py2.py3-none-any.whl.metadata (28 kB)\n",
      "Collecting pyaudio\n",
      "  Downloading PyAudio-0.2.14-cp312-cp312-win_amd64.whl.metadata (2.7 kB)\n",
      "Collecting requests>=2.26.0 (from SpeechRecognition)\n",
      "  Using cached requests-2.32.3-py3-none-any.whl.metadata (4.6 kB)\n",
      "Collecting typing-extensions (from SpeechRecognition)\n",
      "  Using cached typing_extensions-4.12.2-py3-none-any.whl.metadata (3.0 kB)\n",
      "Collecting charset-normalizer<4,>=2 (from requests>=2.26.0->SpeechRecognition)\n",
      "  Downloading charset_normalizer-3.4.0-cp312-cp312-win_amd64.whl.metadata (34 kB)\n",
      "Collecting idna<4,>=2.5 (from requests>=2.26.0->SpeechRecognition)\n",
      "  Using cached idna-3.10-py3-none-any.whl.metadata (10 kB)\n",
      "Collecting urllib3<3,>=1.21.1 (from requests>=2.26.0->SpeechRecognition)\n",
      "  Using cached urllib3-2.2.3-py3-none-any.whl.metadata (6.5 kB)\n",
      "Collecting certifi>=2017.4.17 (from requests>=2.26.0->SpeechRecognition)\n",
      "  Using cached certifi-2024.8.30-py3-none-any.whl.metadata (2.2 kB)\n",
      "Downloading SpeechRecognition-3.11.0-py2.py3-none-any.whl (32.8 MB)\n",
      "   ---------------------------------------- 0.0/32.8 MB ? eta -:--:--\n",
      "   ---------------------------------------- 0.3/32.8 MB ? eta -:--:--\n",
      "   ---------------------------------------- 0.3/32.8 MB ? eta -:--:--\n",
      "   ---------------------------------------- 0.3/32.8 MB ? eta -:--:--\n",
      "    --------------------------------------- 0.5/32.8 MB 540.5 kB/s eta 0:01:00\n",
      "    --------------------------------------- 0.5/32.8 MB 540.5 kB/s eta 0:01:00\n",
      "    --------------------------------------- 0.8/32.8 MB 558.9 kB/s eta 0:00:58\n",
      "    --------------------------------------- 0.8/32.8 MB 558.9 kB/s eta 0:00:58\n",
      "    --------------------------------------- 0.8/32.8 MB 558.9 kB/s eta 0:00:58\n",
      "    --------------------------------------- 0.8/32.8 MB 558.9 kB/s eta 0:00:58\n",
      "   - -------------------------------------- 1.0/32.8 MB 479.2 kB/s eta 0:01:07\n",
      "   - -------------------------------------- 1.0/32.8 MB 479.2 kB/s eta 0:01:07\n",
      "   - -------------------------------------- 1.0/32.8 MB 479.2 kB/s eta 0:01:07\n",
      "   - -------------------------------------- 1.0/32.8 MB 479.2 kB/s eta 0:01:07\n",
      "   - -------------------------------------- 1.0/32.8 MB 479.2 kB/s eta 0:01:07\n",
      "   - -------------------------------------- 1.3/32.8 MB 374.9 kB/s eta 0:01:25\n",
      "   - -------------------------------------- 1.3/32.8 MB 374.9 kB/s eta 0:01:25\n",
      "   - -------------------------------------- 1.6/32.8 MB 417.3 kB/s eta 0:01:15\n",
      "   - -------------------------------------- 1.6/32.8 MB 417.3 kB/s eta 0:01:15\n",
      "   -- ------------------------------------- 1.8/32.8 MB 441.4 kB/s eta 0:01:11\n",
      "   -- ------------------------------------- 1.8/32.8 MB 441.4 kB/s eta 0:01:11\n",
      "   -- ------------------------------------- 1.8/32.8 MB 441.4 kB/s eta 0:01:11\n",
      "   -- ------------------------------------- 1.8/32.8 MB 441.4 kB/s eta 0:01:11\n",
      "   -- ------------------------------------- 2.1/32.8 MB 427.0 kB/s eta 0:01:13\n",
      "   -- ------------------------------------- 2.4/32.8 MB 461.2 kB/s eta 0:01:07\n",
      "   -- ------------------------------------- 2.4/32.8 MB 461.2 kB/s eta 0:01:07\n",
      "   --- ------------------------------------ 2.6/32.8 MB 471.9 kB/s eta 0:01:05\n",
      "   --- ------------------------------------ 2.9/32.8 MB 500.8 kB/s eta 0:01:00\n",
      "   --- ------------------------------------ 3.1/32.8 MB 533.3 kB/s eta 0:00:56\n",
      "   ---- ----------------------------------- 3.7/32.8 MB 595.9 kB/s eta 0:00:49\n",
      "   ---- ----------------------------------- 3.9/32.8 MB 624.7 kB/s eta 0:00:47\n",
      "   ----- ---------------------------------- 4.5/32.8 MB 690.1 kB/s eta 0:00:42\n",
      "   ------ --------------------------------- 5.0/32.8 MB 751.1 kB/s eta 0:00:38\n",
      "   ------ --------------------------------- 5.2/32.8 MB 771.8 kB/s eta 0:00:36\n",
      "   ------ --------------------------------- 5.5/32.8 MB 783.9 kB/s eta 0:00:35\n",
      "   ------ --------------------------------- 5.5/32.8 MB 783.9 kB/s eta 0:00:35\n",
      "   ------- -------------------------------- 6.0/32.8 MB 809.4 kB/s eta 0:00:34\n",
      "   ------- -------------------------------- 6.3/32.8 MB 824.5 kB/s eta 0:00:33\n",
      "   ------- -------------------------------- 6.6/32.8 MB 849.4 kB/s eta 0:00:31\n",
      "   -------- ------------------------------- 6.8/32.8 MB 850.8 kB/s eta 0:00:31\n",
      "   -------- ------------------------------- 6.8/32.8 MB 850.8 kB/s eta 0:00:31\n",
      "   -------- ------------------------------- 6.8/32.8 MB 850.8 kB/s eta 0:00:31\n",
      "   -------- ------------------------------- 7.1/32.8 MB 829.3 kB/s eta 0:00:32\n",
      "   -------- ------------------------------- 7.1/32.8 MB 829.3 kB/s eta 0:00:32\n",
      "   -------- ------------------------------- 7.1/32.8 MB 829.3 kB/s eta 0:00:32\n",
      "   -------- ------------------------------- 7.1/32.8 MB 829.3 kB/s eta 0:00:32\n",
      "   -------- ------------------------------- 7.1/32.8 MB 829.3 kB/s eta 0:00:32\n",
      "   -------- ------------------------------- 7.1/32.8 MB 829.3 kB/s eta 0:00:32\n",
      "   -------- ------------------------------- 7.1/32.8 MB 829.3 kB/s eta 0:00:32\n",
      "   -------- ------------------------------- 7.1/32.8 MB 829.3 kB/s eta 0:00:32\n",
      "   -------- ------------------------------- 7.3/32.8 MB 719.0 kB/s eta 0:00:36\n",
      "   -------- ------------------------------- 7.3/32.8 MB 719.0 kB/s eta 0:00:36\n",
      "   -------- ------------------------------- 7.3/32.8 MB 719.0 kB/s eta 0:00:36\n",
      "   -------- ------------------------------- 7.3/32.8 MB 719.0 kB/s eta 0:00:36\n",
      "   --------- ------------------------------ 7.6/32.8 MB 682.8 kB/s eta 0:00:37\n",
      "   ---------- ----------------------------- 8.7/32.8 MB 759.4 kB/s eta 0:00:32\n",
      "   ----------- ---------------------------- 9.2/32.8 MB 794.4 kB/s eta 0:00:30\n",
      "   ----------- ---------------------------- 9.4/32.8 MB 809.9 kB/s eta 0:00:29\n",
      "   ----------- ---------------------------- 9.4/32.8 MB 809.9 kB/s eta 0:00:29\n",
      "   ----------- ---------------------------- 9.4/32.8 MB 809.9 kB/s eta 0:00:29\n",
      "   ----------- ---------------------------- 9.7/32.8 MB 791.6 kB/s eta 0:00:30\n",
      "   ------------ --------------------------- 10.0/32.8 MB 789.7 kB/s eta 0:00:29\n",
      "   ------------ --------------------------- 10.0/32.8 MB 789.7 kB/s eta 0:00:29\n",
      "   ------------ --------------------------- 10.0/32.8 MB 789.7 kB/s eta 0:00:29\n",
      "   ------------ --------------------------- 10.0/32.8 MB 789.7 kB/s eta 0:00:29\n",
      "   ------------ --------------------------- 10.0/32.8 MB 789.7 kB/s eta 0:00:29\n",
      "   ------------ --------------------------- 10.0/32.8 MB 789.7 kB/s eta 0:00:29\n",
      "   ------------ --------------------------- 10.0/32.8 MB 789.7 kB/s eta 0:00:29\n",
      "   ------------ --------------------------- 10.0/32.8 MB 789.7 kB/s eta 0:00:29\n",
      "   ------------ --------------------------- 10.0/32.8 MB 789.7 kB/s eta 0:00:29\n",
      "   ------------ --------------------------- 10.0/32.8 MB 789.7 kB/s eta 0:00:29\n",
      "   ------------ --------------------------- 10.2/32.8 MB 703.6 kB/s eta 0:00:33\n",
      "   ------------ --------------------------- 10.2/32.8 MB 703.6 kB/s eta 0:00:33\n",
      "   ------------ --------------------------- 10.5/32.8 MB 699.0 kB/s eta 0:00:32\n",
      "   ------------ --------------------------- 10.5/32.8 MB 699.0 kB/s eta 0:00:32\n",
      "   ------------- -------------------------- 10.7/32.8 MB 699.8 kB/s eta 0:00:32\n",
      "   ------------- -------------------------- 11.0/32.8 MB 703.3 kB/s eta 0:00:32\n",
      "   ------------- -------------------------- 11.3/32.8 MB 711.7 kB/s eta 0:00:31\n",
      "   ------------- -------------------------- 11.3/32.8 MB 711.7 kB/s eta 0:00:31\n",
      "   -------------- ------------------------- 11.5/32.8 MB 714.2 kB/s eta 0:00:30\n",
      "   -------------- ------------------------- 11.5/32.8 MB 714.2 kB/s eta 0:00:30\n",
      "   -------------- ------------------------- 11.8/32.8 MB 705.0 kB/s eta 0:00:30\n",
      "   --------------- ------------------------ 12.3/32.8 MB 727.4 kB/s eta 0:00:29\n",
      "   --------------- ------------------------ 13.1/32.8 MB 766.1 kB/s eta 0:00:26\n",
      "   ---------------- ----------------------- 13.6/32.8 MB 787.9 kB/s eta 0:00:25\n",
      "   ----------------- ---------------------- 14.4/32.8 MB 822.9 kB/s eta 0:00:23\n",
      "   ----------------- ---------------------- 14.4/32.8 MB 822.9 kB/s eta 0:00:23\n",
      "   ----------------- ---------------------- 14.7/32.8 MB 823.1 kB/s eta 0:00:23\n",
      "   ----------------- ---------------------- 14.7/32.8 MB 823.1 kB/s eta 0:00:23\n",
      "   ----------------- ---------------------- 14.7/32.8 MB 823.1 kB/s eta 0:00:23\n",
      "   ------------------ --------------------- 14.9/32.8 MB 813.4 kB/s eta 0:00:23\n",
      "   ------------------ --------------------- 14.9/32.8 MB 813.4 kB/s eta 0:00:23\n",
      "   ------------------ --------------------- 14.9/32.8 MB 813.4 kB/s eta 0:00:23\n",
      "   ------------------ --------------------- 15.5/32.8 MB 807.5 kB/s eta 0:00:22\n",
      "   ------------------- -------------------- 16.0/32.8 MB 825.8 kB/s eta 0:00:21\n",
      "   -------------------- ------------------- 16.8/32.8 MB 859.3 kB/s eta 0:00:19\n",
      "   --------------------- ------------------ 17.6/32.8 MB 889.4 kB/s eta 0:00:18\n",
      "   --------------------- ------------------ 17.8/32.8 MB 897.1 kB/s eta 0:00:17\n",
      "   ---------------------- ----------------- 18.4/32.8 MB 915.8 kB/s eta 0:00:16\n",
      "   ---------------------- ----------------- 18.6/32.8 MB 922.5 kB/s eta 0:00:16\n",
      "   ---------------------- ----------------- 18.9/32.8 MB 925.5 kB/s eta 0:00:16\n",
      "   ---------------------- ----------------- 18.9/32.8 MB 925.5 kB/s eta 0:00:16\n",
      "   ----------------------- ---------------- 19.1/32.8 MB 920.7 kB/s eta 0:00:15\n",
      "   ----------------------- ---------------- 19.1/32.8 MB 920.7 kB/s eta 0:00:15\n",
      "   ----------------------- ---------------- 19.1/32.8 MB 920.7 kB/s eta 0:00:15\n",
      "   ----------------------- ---------------- 19.1/32.8 MB 920.7 kB/s eta 0:00:15\n",
      "   ----------------------- ---------------- 19.1/32.8 MB 920.7 kB/s eta 0:00:15\n",
      "   ----------------------- ---------------- 19.4/32.8 MB 887.5 kB/s eta 0:00:16\n",
      "   ----------------------- ---------------- 19.4/32.8 MB 887.5 kB/s eta 0:00:16\n",
      "   ----------------------- ---------------- 19.4/32.8 MB 887.5 kB/s eta 0:00:16\n",
      "   ----------------------- ---------------- 19.4/32.8 MB 887.5 kB/s eta 0:00:16\n",
      "   ----------------------- ---------------- 19.7/32.8 MB 863.4 kB/s eta 0:00:16\n",
      "   ----------------------- ---------------- 19.7/32.8 MB 863.4 kB/s eta 0:00:16\n",
      "   ----------------------- ---------------- 19.7/32.8 MB 863.4 kB/s eta 0:00:16\n",
      "   ------------------------ --------------- 19.9/32.8 MB 852.5 kB/s eta 0:00:16\n",
      "   ------------------------ --------------- 20.2/32.8 MB 854.6 kB/s eta 0:00:15\n",
      "   ------------------------- -------------- 21.0/32.8 MB 881.8 kB/s eta 0:00:14\n",
      "   -------------------------- ------------- 21.5/32.8 MB 897.6 kB/s eta 0:00:13\n",
      "   -------------------------- ------------- 21.5/32.8 MB 897.6 kB/s eta 0:00:13\n",
      "   -------------------------- ------------- 21.8/32.8 MB 892.8 kB/s eta 0:00:13\n",
      "   -------------------------- ------------- 21.8/32.8 MB 892.8 kB/s eta 0:00:13\n",
      "   -------------------------- ------------- 21.8/32.8 MB 892.8 kB/s eta 0:00:13\n",
      "   -------------------------- ------------- 21.8/32.8 MB 892.8 kB/s eta 0:00:13\n",
      "   -------------------------- ------------- 21.8/32.8 MB 892.8 kB/s eta 0:00:13\n",
      "   -------------------------- ------------- 22.0/32.8 MB 865.4 kB/s eta 0:00:13\n",
      "   -------------------------- ------------- 22.0/32.8 MB 865.4 kB/s eta 0:00:13\n",
      "   -------------------------- ------------- 22.0/32.8 MB 865.4 kB/s eta 0:00:13\n",
      "   -------------------------- ------------- 22.0/32.8 MB 865.4 kB/s eta 0:00:13\n",
      "   --------------------------- ------------ 22.3/32.8 MB 846.9 kB/s eta 0:00:13\n",
      "   --------------------------- ------------ 22.3/32.8 MB 846.9 kB/s eta 0:00:13\n",
      "   --------------------------- ------------ 22.5/32.8 MB 845.3 kB/s eta 0:00:13\n",
      "   --------------------------- ------------ 22.5/32.8 MB 845.3 kB/s eta 0:00:13\n",
      "   --------------------------- ------------ 22.5/32.8 MB 845.3 kB/s eta 0:00:13\n",
      "   --------------------------- ------------ 22.5/32.8 MB 845.3 kB/s eta 0:00:13\n",
      "   --------------------------- ------------ 22.5/32.8 MB 845.3 kB/s eta 0:00:13\n",
      "   --------------------------- ------------ 22.8/32.8 MB 822.6 kB/s eta 0:00:13\n",
      "   --------------------------- ------------ 22.8/32.8 MB 822.6 kB/s eta 0:00:13\n",
      "   --------------------------- ------------ 22.8/32.8 MB 822.6 kB/s eta 0:00:13\n",
      "   ---------------------------- ----------- 23.1/32.8 MB 819.1 kB/s eta 0:00:12\n",
      "   ---------------------------- ----------- 23.1/32.8 MB 819.1 kB/s eta 0:00:12\n",
      "   ---------------------------- ----------- 23.3/32.8 MB 814.3 kB/s eta 0:00:12\n",
      "   ----------------------------- ---------- 23.9/32.8 MB 824.2 kB/s eta 0:00:11\n",
      "   ----------------------------- ---------- 24.1/32.8 MB 829.3 kB/s eta 0:00:11\n",
      "   ------------------------------ --------- 24.6/32.8 MB 838.4 kB/s eta 0:00:10\n",
      "   ------------------------------ --------- 24.6/32.8 MB 838.4 kB/s eta 0:00:10\n",
      "   ------------------------------ --------- 24.9/32.8 MB 836.6 kB/s eta 0:00:10\n",
      "   ------------------------------ --------- 24.9/32.8 MB 836.6 kB/s eta 0:00:10\n",
      "   ------------------------------ --------- 25.2/32.8 MB 834.9 kB/s eta 0:00:10\n",
      "   ------------------------------ --------- 25.2/32.8 MB 834.9 kB/s eta 0:00:10\n",
      "   ------------------------------ --------- 25.2/32.8 MB 834.9 kB/s eta 0:00:10\n",
      "   ------------------------------ --------- 25.2/32.8 MB 834.9 kB/s eta 0:00:10\n",
      "   ------------------------------ --------- 25.2/32.8 MB 834.9 kB/s eta 0:00:10\n",
      "   ------------------------------ --------- 25.2/32.8 MB 834.9 kB/s eta 0:00:10\n",
      "   ------------------------------ --------- 25.4/32.8 MB 829.1 kB/s eta 0:00:09\n",
      "   ------------------------------- -------- 25.7/32.8 MB 831.3 kB/s eta 0:00:09\n",
      "   ------------------------------- -------- 25.7/32.8 MB 831.3 kB/s eta 0:00:09\n",
      "   ------------------------------- -------- 26.0/32.8 MB 852.9 kB/s eta 0:00:09\n",
      "   ------------------------------- -------- 26.0/32.8 MB 852.9 kB/s eta 0:00:09\n",
      "   ------------------------------- -------- 26.2/32.8 MB 850.5 kB/s eta 0:00:08\n",
      "   ------------------------------- -------- 26.2/32.8 MB 850.5 kB/s eta 0:00:08\n",
      "   -------------------------------- ------- 26.5/32.8 MB 848.1 kB/s eta 0:00:08\n",
      "   -------------------------------- ------- 26.5/32.8 MB 848.1 kB/s eta 0:00:08\n",
      "   -------------------------------- ------- 26.7/32.8 MB 845.9 kB/s eta 0:00:08\n",
      "   -------------------------------- ------- 27.0/32.8 MB 849.4 kB/s eta 0:00:07\n",
      "   --------------------------------- ------ 27.3/32.8 MB 856.1 kB/s eta 0:00:07\n",
      "   --------------------------------- ------ 27.3/32.8 MB 856.1 kB/s eta 0:00:07\n",
      "   --------------------------------- ------ 27.5/32.8 MB 863.8 kB/s eta 0:00:07\n",
      "   --------------------------------- ------ 27.8/32.8 MB 866.7 kB/s eta 0:00:06\n",
      "   ---------------------------------- ----- 28.6/32.8 MB 886.7 kB/s eta 0:00:05\n",
      "   ----------------------------------- ---- 29.1/32.8 MB 897.8 kB/s eta 0:00:05\n",
      "   ----------------------------------- ---- 29.1/32.8 MB 897.8 kB/s eta 0:00:05\n",
      "   ----------------------------------- ---- 29.4/32.8 MB 902.1 kB/s eta 0:00:04\n",
      "   ----------------------------------- ---- 29.4/32.8 MB 902.1 kB/s eta 0:00:04\n",
      "   ------------------------------------ --- 29.6/32.8 MB 900.0 kB/s eta 0:00:04\n",
      "   ------------------------------------ --- 29.9/32.8 MB 893.6 kB/s eta 0:00:04\n",
      "   ------------------------------------ --- 29.9/32.8 MB 893.6 kB/s eta 0:00:04\n",
      "   ------------------------------------ --- 29.9/32.8 MB 893.6 kB/s eta 0:00:04\n",
      "   ------------------------------------ --- 30.1/32.8 MB 873.8 kB/s eta 0:00:04\n",
      "   ------------------------------------ --- 30.1/32.8 MB 873.8 kB/s eta 0:00:04\n",
      "   ------------------------------------ --- 30.1/32.8 MB 873.8 kB/s eta 0:00:04\n",
      "   ------------------------------------- -- 30.4/32.8 MB 838.9 kB/s eta 0:00:03\n",
      "   ------------------------------------- -- 30.4/32.8 MB 838.9 kB/s eta 0:00:03\n",
      "   ------------------------------------- -- 30.4/32.8 MB 838.9 kB/s eta 0:00:03\n",
      "   ------------------------------------- -- 30.7/32.8 MB 815.6 kB/s eta 0:00:03\n",
      "   ------------------------------------- -- 30.9/32.8 MB 814.8 kB/s eta 0:00:03\n",
      "   -------------------------------------- - 31.5/32.8 MB 827.4 kB/s eta 0:00:02\n",
      "   -------------------------------------- - 31.7/32.8 MB 830.5 kB/s eta 0:00:02\n",
      "   -------------------------------------- - 32.0/32.8 MB 838.8 kB/s eta 0:00:02\n",
      "   -------------------------------------- - 32.0/32.8 MB 838.8 kB/s eta 0:00:02\n",
      "   ---------------------------------------  32.2/32.8 MB 874.8 kB/s eta 0:00:01\n",
      "   ---------------------------------------  32.2/32.8 MB 874.8 kB/s eta 0:00:01\n",
      "   ---------------------------------------  32.5/32.8 MB 873.4 kB/s eta 0:00:01\n",
      "   ---------------------------------------  32.5/32.8 MB 873.4 kB/s eta 0:00:01\n",
      "   ---------------------------------------  32.8/32.8 MB 865.6 kB/s eta 0:00:01\n",
      "   ---------------------------------------- 32.8/32.8 MB 864.6 kB/s eta 0:00:00\n",
      "Downloading PyAudio-0.2.14-cp312-cp312-win_amd64.whl (164 kB)\n",
      "Using cached requests-2.32.3-py3-none-any.whl (64 kB)\n",
      "Using cached typing_extensions-4.12.2-py3-none-any.whl (37 kB)\n",
      "Using cached certifi-2024.8.30-py3-none-any.whl (167 kB)\n",
      "Downloading charset_normalizer-3.4.0-cp312-cp312-win_amd64.whl (102 kB)\n",
      "Using cached idna-3.10-py3-none-any.whl (70 kB)\n",
      "Using cached urllib3-2.2.3-py3-none-any.whl (126 kB)\n",
      "Installing collected packages: pyaudio, urllib3, typing-extensions, idna, charset-normalizer, certifi, requests, SpeechRecognition\n",
      "Successfully installed SpeechRecognition-3.11.0 certifi-2024.8.30 charset-normalizer-3.4.0 idna-3.10 pyaudio-0.2.14 requests-2.32.3 typing-extensions-4.12.2 urllib3-2.2.3\n"
     ]
    }
   ],
   "source": [
    "!pip install SpeechRecognition pyaudio"
   ]
  },
  {
   "cell_type": "code",
   "execution_count": 2,
   "metadata": {},
   "outputs": [],
   "source": [
    "import speech_recognition as sr"
   ]
  },
  {
   "cell_type": "code",
   "execution_count": 7,
   "metadata": {},
   "outputs": [],
   "source": [
    "import speech_recognition as sr\n",
    "\n",
    "def live_hindi_speech_to_text():\n",
    "    recognizer = sr.Recognizer()\n",
    "    \n",
    "    with sr.Microphone() as source:\n",
    "        print(\"Adjusting for ambient noise... Please wait.\")\n",
    "        recognizer.adjust_for_ambient_noise(source)\n",
    "        print(\"You can start speaking now.\")\n",
    "        \n",
    "        while True:\n",
    "            try:\n",
    "                print(\"Listening...\")\n",
    "                audio = recognizer.listen(source, timeout=5)  # adjust timeout if needed\n",
    "                print(\"Recognizing...\")\n",
    "                text = recognizer.recognize_google(audio, language='hi-IN')\n",
    "                print(f\"You said: {text}\")\n",
    "                \n",
    "            except sr.UnknownValueError:\n",
    "                print(\"Couldn't understand the audio.\")\n",
    "            except sr.RequestError as e:\n",
    "                print(f\"Could not request results; {e}\")\n",
    "            except KeyboardInterrupt:\n",
    "                print(\"\\nLive detection stopped.\")\n",
    "                break"
   ]
  },
  {
   "cell_type": "code",
   "execution_count": 18,
   "metadata": {},
   "outputs": [
    {
     "name": "stdout",
     "output_type": "stream",
     "text": [
      "Adjusting for ambient noise... Please wait.\n",
      "You can start speaking now.\n",
      "Listening...\n",
      "Recognizing...\n",
      "You said: मेरा नाम अमन है\n"
     ]
    },
    {
     "ename": "UnicodeEncodeError",
     "evalue": "'charmap' codec can't encode characters in position 0-3: character maps to <undefined>",
     "output_type": "error",
     "traceback": [
      "\u001b[1;31m---------------------------------------------------------------------------\u001b[0m",
      "\u001b[1;31mUnicodeEncodeError\u001b[0m                        Traceback (most recent call last)",
      "Cell \u001b[1;32mIn[18], line 34\u001b[0m\n\u001b[0;32m     31\u001b[0m                 \u001b[38;5;28;01mbreak\u001b[39;00m\n\u001b[0;32m     33\u001b[0m \u001b[38;5;66;03m# Call the function\u001b[39;00m\n\u001b[1;32m---> 34\u001b[0m \u001b[43mlive_hindi_speech_to_text\u001b[49m\u001b[43m(\u001b[49m\u001b[43m)\u001b[49m\n",
      "Cell \u001b[1;32mIn[18], line 23\u001b[0m, in \u001b[0;36mlive_hindi_speech_to_text\u001b[1;34m()\u001b[0m\n\u001b[0;32m     21\u001b[0m     \u001b[38;5;66;03m# Append or display the text as part of a running transcript\u001b[39;00m\n\u001b[0;32m     22\u001b[0m     \u001b[38;5;28;01mwith\u001b[39;00m \u001b[38;5;28mopen\u001b[39m(\u001b[38;5;124m\"\u001b[39m\u001b[38;5;124mlive_transcript.txt\u001b[39m\u001b[38;5;124m\"\u001b[39m, \u001b[38;5;124m\"\u001b[39m\u001b[38;5;124ma\u001b[39m\u001b[38;5;124m\"\u001b[39m) \u001b[38;5;28;01mas\u001b[39;00m f:\n\u001b[1;32m---> 23\u001b[0m         \u001b[43mf\u001b[49m\u001b[38;5;241;43m.\u001b[39;49m\u001b[43mwrite\u001b[49m\u001b[43m(\u001b[49m\u001b[43mtext\u001b[49m\u001b[43m \u001b[49m\u001b[38;5;241;43m+\u001b[39;49m\u001b[43m \u001b[49m\u001b[38;5;124;43m\"\u001b[39;49m\u001b[38;5;124;43m \u001b[39;49m\u001b[38;5;124;43m\"\u001b[39;49m\u001b[43m)\u001b[49m  \u001b[38;5;66;03m# Writes the transcribed text to a file for continuous tracking\u001b[39;00m\n\u001b[0;32m     25\u001b[0m \u001b[38;5;28;01mexcept\u001b[39;00m sr\u001b[38;5;241m.\u001b[39mUnknownValueError:\n\u001b[0;32m     26\u001b[0m     \u001b[38;5;28mprint\u001b[39m(\u001b[38;5;124m\"\u001b[39m\u001b[38;5;124mCouldn\u001b[39m\u001b[38;5;124m'\u001b[39m\u001b[38;5;124mt understand the audio.\u001b[39m\u001b[38;5;124m\"\u001b[39m)\n",
      "File \u001b[1;32mc:\\Python312\\Lib\\encodings\\cp1252.py:19\u001b[0m, in \u001b[0;36mIncrementalEncoder.encode\u001b[1;34m(self, input, final)\u001b[0m\n\u001b[0;32m     18\u001b[0m \u001b[38;5;28;01mdef\u001b[39;00m \u001b[38;5;21mencode\u001b[39m(\u001b[38;5;28mself\u001b[39m, \u001b[38;5;28minput\u001b[39m, final\u001b[38;5;241m=\u001b[39m\u001b[38;5;28;01mFalse\u001b[39;00m):\n\u001b[1;32m---> 19\u001b[0m     \u001b[38;5;28;01mreturn\u001b[39;00m \u001b[43mcodecs\u001b[49m\u001b[38;5;241;43m.\u001b[39;49m\u001b[43mcharmap_encode\u001b[49m\u001b[43m(\u001b[49m\u001b[38;5;28;43minput\u001b[39;49m\u001b[43m,\u001b[49m\u001b[38;5;28;43mself\u001b[39;49m\u001b[38;5;241;43m.\u001b[39;49m\u001b[43merrors\u001b[49m\u001b[43m,\u001b[49m\u001b[43mencoding_table\u001b[49m\u001b[43m)\u001b[49m[\u001b[38;5;241m0\u001b[39m]\n",
      "\u001b[1;31mUnicodeEncodeError\u001b[0m: 'charmap' codec can't encode characters in position 0-3: character maps to <undefined>"
     ]
    }
   ],
   "source": [
    "import speech_recognition as sr\n",
    "\n",
    "def live_hindi_speech_to_text():\n",
    "    recognizer = sr.Recognizer()\n",
    "    \n",
    "    with sr.Microphone() as source:\n",
    "        print(\"Adjusting for ambient noise... Please wait.\")\n",
    "        recognizer.adjust_for_ambient_noise(source)\n",
    "        print(\"You can start speaking now.\")\n",
    "\n",
    "        while True:\n",
    "            try:\n",
    "                print(\"Listening...\")\n",
    "                # Using a non-blocking `recognize_google` by capturing smaller segments of audio\n",
    "                audio = recognizer.listen(source, phrase_time_limit=3)  # phrase_time_limit restricts to shorter segments\n",
    "                \n",
    "                print(\"Recognizing...\")\n",
    "                text = recognizer.recognize_google(audio, language='hi-IN')\n",
    "                print(f\"You said: {text}\")\n",
    "                \n",
    "                # Append or display the text as part of a running transcript\n",
    "                with open(\"live_transcript.txt\", \"a\") as f:\n",
    "                    f.write(text + \" \")  # Writes the transcribed text to a file for continuous tracking\n",
    "\n",
    "            except sr.UnknownValueError:\n",
    "                print(\"Couldn't understand the audio.\")\n",
    "            except sr.RequestError as e:\n",
    "                print(f\"Could not request results; {e}\")\n",
    "            except KeyboardInterrupt:\n",
    "                print(\"\\nLive detection stopped.\")\n",
    "                break\n",
    "\n",
    "# Call the function\n",
    "live_hindi_speech_to_text()\n"
   ]
  },
  {
   "cell_type": "code",
   "execution_count": 8,
   "metadata": {},
   "outputs": [
    {
     "name": "stdout",
     "output_type": "stream",
     "text": [
      "Adjusting for ambient noise... Please wait.\n",
      "You can start speaking now.\n",
      "Listening...\n",
      "Recognizing...\n",
      "You said: हेलो हेलो\n",
      "Listening...\n",
      "Recognizing...\n",
      "You said: माइक चेक मेरा नाम\n",
      "Listening...\n",
      "Recognizing...\n",
      "You said: मेरा नाम अमन है माय नेम इस अमन फक यू बीच\n",
      "Listening...\n",
      "Recognizing...\n",
      "Couldn't understand the audio.\n",
      "Listening...\n",
      "Recognizing...\n",
      "\n",
      "Live detection stopped.\n"
     ]
    }
   ],
   "source": [
    "live_hindi_speech_to_text()"
   ]
  },
  {
   "cell_type": "code",
   "execution_count": 9,
   "metadata": {},
   "outputs": [
    {
     "name": "stdout",
     "output_type": "stream",
     "text": [
      "Defaulting to user installation because normal site-packages is not writeable\n",
      "Collecting langdetect\n",
      "  Downloading langdetect-1.0.9.tar.gz (981 kB)\n",
      "     ---------------------------------------- 0.0/981.5 kB ? eta -:--:--\n",
      "     ------------------------------------- 981.5/981.5 kB 48.0 MB/s eta 0:00:00\n",
      "  Installing build dependencies: started\n",
      "  Installing build dependencies: finished with status 'done'\n",
      "  Getting requirements to build wheel: started\n",
      "  Getting requirements to build wheel: finished with status 'done'\n",
      "  Preparing metadata (pyproject.toml): started\n",
      "  Preparing metadata (pyproject.toml): finished with status 'done'\n",
      "Requirement already satisfied: six in c:\\users\\rahul\\appdata\\roaming\\python\\python312\\site-packages (from langdetect) (1.16.0)\n",
      "Building wheels for collected packages: langdetect\n",
      "  Building wheel for langdetect (pyproject.toml): started\n",
      "  Building wheel for langdetect (pyproject.toml): finished with status 'done'\n",
      "  Created wheel for langdetect: filename=langdetect-1.0.9-py3-none-any.whl size=993251 sha256=6039152285390149c2571fae27da2a27c699280e12959729905b52aadc9aa69d\n",
      "  Stored in directory: c:\\users\\rahul\\appdata\\local\\pip\\cache\\wheels\\c1\\67\\88\\e844b5b022812e15a52e4eaa38a1e709e99f06f6639d7e3ba7\n",
      "Successfully built langdetect\n",
      "Installing collected packages: langdetect\n",
      "Successfully installed langdetect-1.0.9\n"
     ]
    }
   ],
   "source": [
    "!pip install langdetect"
   ]
  },
  {
   "cell_type": "code",
   "execution_count": 10,
   "metadata": {},
   "outputs": [],
   "source": [
    "import speech_recognition as sr\n",
    "from langdetect import detect, LangDetectException\n",
    "\n",
    "def automatic_language_detection():\n",
    "    recognizer = sr.Recognizer()\n",
    "\n",
    "    with sr.Microphone() as source:\n",
    "        print(\"Adjusting for ambient noise... Please wait.\")\n",
    "        recognizer.adjust_for_ambient_noise(source)\n",
    "        print(\"You can start speaking now.\")\n",
    "        \n",
    "        try:\n",
    "            print(\"Listening...\")\n",
    "            audio = recognizer.listen(source, timeout=5)\n",
    "            print(\"Recognizing...\")\n",
    "            # Recognize speech in any supported language (Google API tries to guess)\n",
    "            text = recognizer.recognize_google(audio)\n",
    "            print(f\"Recognized text: {text}\")\n",
    "            \n",
    "            # Detect the language of the transcribed text\n",
    "            try:\n",
    "                detected_language = detect(text)\n",
    "                print(f\"Detected language: {detected_language}\")\n",
    "            except LangDetectException:\n",
    "                print(\"Couldn't detect the language.\")\n",
    "        \n",
    "        except sr.UnknownValueError:\n",
    "            print(\"Couldn't understand the audio.\")\n",
    "        except sr.RequestError as e:\n",
    "            print(f\"Could not request results; {e}\")"
   ]
  },
  {
   "cell_type": "code",
   "execution_count": 11,
   "metadata": {},
   "outputs": [
    {
     "name": "stdout",
     "output_type": "stream",
     "text": [
      "Adjusting for ambient noise... Please wait.\n",
      "You can start speaking now.\n",
      "Listening...\n",
      "Recognizing...\n",
      "Recognized text: hello hello hello my name is Aman\n",
      "Detected language: en\n"
     ]
    }
   ],
   "source": [
    "automatic_language_detection()"
   ]
  },
  {
   "cell_type": "code",
   "execution_count": 12,
   "metadata": {},
   "outputs": [
    {
     "name": "stdout",
     "output_type": "stream",
     "text": [
      "Adjusting for ambient noise... Please wait.\n",
      "You can start speaking now.\n",
      "Listening...\n",
      "Recognizing...\n",
      "Recognized text: mera naam Aman hai\n",
      "Detected language: id\n"
     ]
    }
   ],
   "source": [
    "automatic_language_detection()"
   ]
  },
  {
   "cell_type": "code",
   "execution_count": 13,
   "metadata": {},
   "outputs": [
    {
     "name": "stdout",
     "output_type": "stream",
     "text": [
      "Adjusting for ambient noise... Please wait.\n",
      "You can start speaking now.\n",
      "Listening...\n",
      "Recognizing...\n",
      "Recognized text: Hasta la vista\n",
      "Detected language: fi\n"
     ]
    }
   ],
   "source": [
    "automatic_language_detection()"
   ]
  },
  {
   "cell_type": "code",
   "execution_count": 14,
   "metadata": {},
   "outputs": [
    {
     "name": "stdout",
     "output_type": "stream",
     "text": [
      "Adjusting for ambient noise... Please wait.\n",
      "You can start speaking now.\n",
      "Listening...\n",
      "Recognizing...\n",
      "Recognized text: Bella ciao\n",
      "Detected language: it\n"
     ]
    }
   ],
   "source": [
    "automatic_language_detection()"
   ]
  },
  {
   "cell_type": "code",
   "execution_count": 17,
   "metadata": {},
   "outputs": [
    {
     "name": "stdout",
     "output_type": "stream",
     "text": [
      "Adjusting for ambient noise... Please wait.\n",
      "You can start speaking now.\n",
      "Listening...\n",
      "Recognizing...\n",
      "Recognized text: Gotan Morgan\n",
      "Detected language: id\n"
     ]
    }
   ],
   "source": [
    "automatic_language_detection()"
   ]
  }
 ],
 "metadata": {
  "kernelspec": {
   "display_name": "Python 3",
   "language": "python",
   "name": "python3"
  },
  "language_info": {
   "codemirror_mode": {
    "name": "ipython",
    "version": 3
   },
   "file_extension": ".py",
   "mimetype": "text/x-python",
   "name": "python",
   "nbconvert_exporter": "python",
   "pygments_lexer": "ipython3",
   "version": "3.12.6"
  }
 },
 "nbformat": 4,
 "nbformat_minor": 2
}
